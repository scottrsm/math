{
 "cells": [
  {
   "cell_type": "code",
   "execution_count": null,
   "id": "519adc25-8bd4-4f42-8804-3907a16df11c",
   "metadata": {},
   "outputs": [],
   "source": [
    "using Primes\n",
    "using Plots\n",
    "using FreqTables"
   ]
  },
  {
   "cell_type": "code",
   "execution_count": null,
   "id": "a87ca644-636f-4376-b1dd-c9890b5dc83d",
   "metadata": {},
   "outputs": [],
   "source": [
    "function myshowall(io, x, limit = false) \n",
    "    println(io, summary(x), \":\")\n",
    "    Base.print_matrix(IOContext(io, :limit => limit), x)\n",
    "end"
   ]
  },
  {
   "cell_type": "code",
   "execution_count": null,
   "id": "55d0f8a9-9d4b-45a0-bb74-a05fa5133d9f",
   "metadata": {},
   "outputs": [],
   "source": [
    "function rle(v::Vector{T}) where T <: Real\n",
    "    vs = sort(v)\n",
    "    vc = nothing\n",
    "    cnt = 0\n",
    "    ary = []\n",
    "    for v in vs\n",
    "        if v == vc\n",
    "            cnt += 1\n",
    "        else\n",
    "            if vc !== nothing\n",
    "                push!(ary, (vc, cnt))\n",
    "            end\n",
    "            vc = v\n",
    "            cnt = 1\n",
    "        end\n",
    "    end\n",
    "    \n",
    "    push!(ary, (vc, cnt))\n",
    "    return(ary)\n",
    "end"
   ]
  },
  {
   "cell_type": "code",
   "execution_count": null,
   "id": "4b6220c7-9f51-4a47-8321-955c6e66d861",
   "metadata": {},
   "outputs": [],
   "source": [
    "function getPrimitivePythagTriples(n::Int64) :: Vector{Tuple{Int64, Int64, Int64}}\n",
    "    ary ::Vector{Tuple{Int64, Int64, Int64}} = []\n",
    "    progress = 0.1 * [x for x in 1:10]\n",
    "    for m in 1:n\n",
    "        for n in 1:(m-1)\n",
    "            if (m-n) % 2 != 0\n",
    "                x = m*m - n*n\n",
    "                y = 2*m*n\n",
    "                if gcd(x,y) == 1\n",
    "                    push!(ary, (x, y, m * m + n * n))\n",
    "                end\n",
    "            end\n",
    "        end\n",
    "    end\n",
    "  return(ary)\n",
    "end"
   ]
  },
  {
   "cell_type": "code",
   "execution_count": null,
   "id": "4d452c31-0410-4f30-bc53-4e419b187117",
   "metadata": {},
   "outputs": [],
   "source": [
    "function getPrimitivePythagTriples2(n::Int64)\n",
    "    ary = []\n",
    "    progress = 0.1 * [x for x in 1:10]\n",
    "    for z in 1:n\n",
    "        if z / n > progress[1]\n",
    "            println(\"$(trunc(Int64, popat!(progress, 1) * 100.0 + 0.01))% done...\")\n",
    "        end\n",
    "        for y in 1:z\n",
    "            for x in 1:y\n",
    "                if gcd(x,y) == 1 && x^2 + y^2 == z^2 && !isprime(z)\n",
    "                    push!(ary, (x,y,z))\n",
    "                end\n",
    "            end\n",
    "        end\n",
    "    end\n",
    "  return(ary)\n",
    "end"
   ]
  },
  {
   "cell_type": "markdown",
   "id": "88b46c1e-1958-44c1-ab98-badbc6b456f4",
   "metadata": {},
   "source": [
    "### Run Experiments"
   ]
  },
  {
   "cell_type": "markdown",
   "id": "bd3b8759-cca8-4ab0-ba87-a5e9b6dd234d",
   "metadata": {},
   "source": [
    "#### Generate Pythagorean Primitive Primes"
   ]
  },
  {
   "cell_type": "code",
   "execution_count": null,
   "id": "19f19bdb-a5d8-48f2-a4b2-3f2e395974ab",
   "metadata": {},
   "outputs": [],
   "source": [
    "N = 60000\n",
    "pythagTriples = sort(getPrimitivePythagTriples(N), lt=((x,y) -> x[3] < y[3]));"
   ]
  },
  {
   "cell_type": "code",
   "execution_count": null,
   "id": "5772ba33-2cde-4f40-848a-abd182262f15",
   "metadata": {},
   "outputs": [],
   "source": [
    "pythagPrimes = [z for (x,y,z) in pythagTriples if isprime(z)];"
   ]
  },
  {
   "cell_type": "code",
   "execution_count": null,
   "id": "58dfe124-9c08-4b0e-aa2f-006c30b10f0b",
   "metadata": {},
   "outputs": [],
   "source": [
    "pyprimes = [(z, div(z,6), abs(z % 6) < abs(6 - (z % 6)) ? z % 6 : (z % 6) - 6) for z in pythagPrimes];"
   ]
  },
  {
   "cell_type": "code",
   "execution_count": null,
   "id": "5a1f3c1d-2ad1-450d-acc1-1da369d48a2c",
   "metadata": {},
   "outputs": [],
   "source": [
    "pythagTriples[1:20]"
   ]
  },
  {
   "cell_type": "markdown",
   "id": "06856a0c-47f3-4c4b-bd63-fd61105a5dc9",
   "metadata": {},
   "source": [
    "#### Generate Primes"
   ]
  },
  {
   "cell_type": "code",
   "execution_count": null,
   "id": "4764b7b3-e0dc-4e58-8974-23a8c1aab705",
   "metadata": {},
   "outputs": [],
   "source": [
    "rprimes = [(z, div(z,6), abs(z % 6) < abs(6 - (z % 6)) ? z % 6 : (z % 6) - 6) for z in primes(3000000000)];"
   ]
  },
  {
   "cell_type": "code",
   "execution_count": null,
   "id": "8e4123ca-8bae-40de-8c48-c9cce5aa1c1b",
   "metadata": {},
   "outputs": [],
   "source": [
    "println(length(rprimes))\n",
    "println(length(pyprimes))"
   ]
  },
  {
   "cell_type": "code",
   "execution_count": null,
   "id": "9c6abbc6-b8c0-42c8-8e16-058f1e6d5c5e",
   "metadata": {},
   "outputs": [],
   "source": [
    "rary=[]\n",
    "for t in pythagTriples[1:50]\n",
    "  r = (t[1] + t[2] - t[3]) // 2\n",
    "  M = max(t[1], t[2])\n",
    "  m = min(t[1], t[2])\n",
    "  println((M - r) // (m - r))\n",
    "  push!(rary, r)\n",
    "  #println(\"$t, r = $r, h = $(sqrt((t[1] - r)^2 + (t[2] - r)^2))\")\n",
    "end\n",
    "myshowall(stdout, freqtable(diff(sort(unique(rary)))))"
   ]
  },
  {
   "cell_type": "markdown",
   "id": "9e7bb9e5-dc1b-4d09-9534-b8edc0e3037e",
   "metadata": {},
   "source": [
    "#### Compute Cumulative Parity Mismatch of Primes and Pythagorean Primes"
   ]
  },
  {
   "cell_type": "code",
   "execution_count": null,
   "id": "16c83c93-7622-482e-969c-3400c135b923",
   "metadata": {},
   "outputs": [],
   "source": [
    "N=40_000_000\n",
    "println(length(rprimes))\n",
    "println(length(pyprimes))\n",
    "rp = cumsum(map(x -> x[3], rprimes[3:(N+2)]))\n",
    "pyp = cumsum(map(x -> x[3], pyprimes[1:N]))\n",
    "ary = []\n",
    "level = 1\n",
    "for i in 1:N\n",
    "    global level, ary, rp, pyp\n",
    "    if (pyp[i] - rp[i]) >= level\n",
    "        push!(ary, (i, level, Tuple(factor(i))))\n",
    "        level += 1\n",
    "    end\n",
    "end "
   ]
  },
  {
   "cell_type": "markdown",
   "id": "59097114-67b6-4010-9dca-52faf23c3569",
   "metadata": {},
   "source": [
    "#### Plot the log of the First Index of Deviation against the log of the Deviation "
   ]
  },
  {
   "cell_type": "code",
   "execution_count": null,
   "id": "c661e328-08bb-4f12-8e8e-cf77c986520d",
   "metadata": {},
   "outputs": [],
   "source": [
    "X = 1.0\n",
    "plot(map(x -> log(abs(x[2])), ary), map(x -> log(x[1]), ary), legend=false, title=\"Parity Deviation versus First Dev Index\", xlabel=\"Log of Parity Deviation\", ylabel=\"Log of First Index Occurance of Dev\")\n",
    "plot!([log(abs(ary[1][2])), log(abs(ary[end][2]))], [X * log(ary[1][1]), X * log(ary[end][1])])"
   ]
  },
  {
   "cell_type": "code",
   "execution_count": null,
   "id": "0d58f095-0c8c-4464-ae7c-bc8228ed71d4",
   "metadata": {},
   "outputs": [],
   "source": [
    "println(log(abs(ary[end][2])))\n",
    "println(log(ary[end][1]))"
   ]
  },
  {
   "cell_type": "code",
   "execution_count": null,
   "id": "2d634c3b-d44d-4eb1-9543-1fab69f98e13",
   "metadata": {},
   "outputs": [],
   "source": [
    "println(log(abs(ary[end][2])))\n",
    "println(log(ary[end][1]))"
   ]
  },
  {
   "cell_type": "code",
   "execution_count": null,
   "id": "c9a11ed1-4a28-469a-ba74-d913d0429a32",
   "metadata": {},
   "outputs": [],
   "source": [
    "(log(ary[end][1]) - log(ary[1][1])) / ( log(abs(ary[end][2])) - log(abs(ary[1][2])) )"
   ]
  },
  {
   "cell_type": "code",
   "execution_count": null,
   "id": "8d9b873f-79cf-4226-87f6-519cb28b553a",
   "metadata": {},
   "outputs": [],
   "source": [
    "(log(ary[end][1]))  / ( log(abs(ary[end][2]))) "
   ]
  },
  {
   "cell_type": "code",
   "execution_count": null,
   "id": "7c1ccb75-c394-494e-a63f-593b0f782f40",
   "metadata": {},
   "outputs": [],
   "source": [
    "exp( (log(ary[end][1]) - log(ary[1][1])) / ( log(abs(ary[end][2])) - log(abs(ary[1][2])) ) ) / ( 2 * pi)"
   ]
  },
  {
   "cell_type": "code",
   "execution_count": null,
   "id": "e1a71c6f-0238-44bb-81f8-4bdbec3998fd",
   "metadata": {},
   "outputs": [],
   "source": [
    "log(41) / log(1.5 * pi)"
   ]
  },
  {
   "cell_type": "code",
   "execution_count": null,
   "id": "e9d3223e-285d-4ddc-8d50-25a0403d6d45",
   "metadata": {},
   "outputs": [],
   "source": [
    "log(2 * pi)"
   ]
  },
  {
   "cell_type": "code",
   "execution_count": null,
   "id": "e1e87cdf-e6d6-4e93-8da5-566762fecc6f",
   "metadata": {},
   "outputs": [],
   "source": [
    "ary[end][1] / exp(ary[end][2] * log(2 * pi))"
   ]
  },
  {
   "cell_type": "code",
   "execution_count": null,
   "id": "5b86cd30-edaa-42fa-b1ef-8f9e84e07dbd",
   "metadata": {},
   "outputs": [],
   "source": [
    "ary[end][1]"
   ]
  },
  {
   "cell_type": "code",
   "execution_count": null,
   "id": "9061a990-dbb1-4b22-90c0-26e431a9df28",
   "metadata": {},
   "outputs": [],
   "source": [
    "(log(ary[end][1]) - log(ary[1][1])) / log(ary[end][2])"
   ]
  },
  {
   "cell_type": "code",
   "execution_count": null,
   "id": "8d1cb42f-7b51-4a31-8681-34046934ce2a",
   "metadata": {},
   "outputs": [],
   "source": [
    "ary[end][1] / exp(log(ary[end][2]) * log(2 * pi))"
   ]
  }
 ],
 "metadata": {
  "kernelspec": {
   "display_name": "Julia 1.9.1",
   "language": "julia",
   "name": "julia-1.9"
  },
  "language_info": {
   "file_extension": ".jl",
   "mimetype": "application/julia",
   "name": "julia",
   "version": "1.9.1"
  }
 },
 "nbformat": 4,
 "nbformat_minor": 5
}
